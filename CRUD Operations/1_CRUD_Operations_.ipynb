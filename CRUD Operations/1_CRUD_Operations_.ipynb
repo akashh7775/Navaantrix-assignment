{
 "cells": [
  {
   "cell_type": "code",
   "execution_count": 1,
   "id": "f6d2ea7a-3203-4550-a7e7-2295e22868b9",
   "metadata": {},
   "outputs": [],
   "source": [
    "# CRUD Operations on Sales Dataset using CSV and Pandas"
   ]
  },
  {
   "cell_type": "code",
   "execution_count": 2,
   "id": "5b47cb15-477a-4daf-92b5-3fdfbeaa41a1",
   "metadata": {},
   "outputs": [],
   "source": [
    "import pandas as pd\n",
    "import os"
   ]
  },
  {
   "cell_type": "code",
   "execution_count": 3,
   "id": "24499c85-2524-4b24-9176-80c7c543a787",
   "metadata": {},
   "outputs": [],
   "source": [
    "# File path to the CSV file\n",
    "FILE_PATH = \"sales_data.csv\""
   ]
  },
  {
   "cell_type": "code",
   "execution_count": 4,
   "id": "6ba90dae-37b4-4159-9e8d-90534cb5e17f",
   "metadata": {},
   "outputs": [],
   "source": [
    "# Sample dataset headers: ID,Date,Product,Category,Quantity,Price,Total"
   ]
  },
  {
   "cell_type": "code",
   "execution_count": 5,
   "id": "9c13db8e-3ec0-4d97-87cb-ff18ac2797e7",
   "metadata": {},
   "outputs": [],
   "source": [
    "def load_data():\n",
    "    if os.path.exists(FILE_PATH):\n",
    "        return pd.read_csv(FILE_PATH)\n",
    "    else:\n",
    "        return pd.DataFrame(columns=[\"ID\", \"Date\", \"Product\", \"Category\", \"Quantity\", \"Price\", \"Total\"])\n",
    "\n",
    "def save_data(df):\n",
    "    df.to_csv(FILE_PATH, index=False)"
   ]
  },
  {
   "cell_type": "code",
   "execution_count": 6,
   "id": "b45399a5-e068-42c6-91f3-67ded5889a50",
   "metadata": {},
   "outputs": [],
   "source": [
    "# -------------------- CREATE --------------------\n",
    "def create_record():\n",
    "    df = load_data()\n",
    "    new_id = int(input(\"Enter ID: \"))\n",
    "    date = input(\"Enter Date (YYYY-MM-DD): \")\n",
    "    product = input(\"Enter Product: \")\n",
    "    category = input(\"Enter Category: \")\n",
    "    quantity = int(input(\"Enter Quantity: \"))\n",
    "    price = float(input(\"Enter Price: \"))\n",
    "    total = quantity * price\n",
    "    \n",
    "    new_record = pd.DataFrame([[new_id, date, product, category, quantity, price, total]],\n",
    "                              columns=df.columns)\n",
    "    df = pd.concat([df, new_record], ignore_index=True)\n",
    "    save_data(df)\n",
    "    print(\"Record added successfully!\\n\")"
   ]
  },
  {
   "cell_type": "code",
   "execution_count": 7,
   "id": "9cccf9bd-a1de-420c-a10d-2c7205f54948",
   "metadata": {},
   "outputs": [],
   "source": [
    "# -------------------- READ --------------------\n",
    "def read_records():\n",
    "    df = load_data()\n",
    "    print(\"\\nCurrent Sales Records:\")\n",
    "    print(df)"
   ]
  },
  {
   "cell_type": "code",
   "execution_count": 8,
   "id": "5f9336c5-f0e9-44d4-8e5e-69d5ce679e39",
   "metadata": {},
   "outputs": [],
   "source": [
    "# -------------------- UPDATE --------------------\n",
    "def update_record():\n",
    "    df = load_data()\n",
    "    record_id = int(input(\"Enter ID of the record to update: \"))\n",
    "    if record_id in df['ID'].values:\n",
    "        field = input(\"Enter the field to update (Date/Product/Category/Quantity/Price): \")\n",
    "        new_value = input(\"Enter new value: \")\n",
    "\n",
    "        if field in ['Quantity', 'Price']:\n",
    "            new_value = float(new_value) if field == 'Price' else int(new_value)\n",
    "        \n",
    "        df.loc[df['ID'] == record_id, field] = new_value\n",
    "\n",
    "        # Recalculate total if Quantity or Price updated\n",
    "        if field in ['Quantity', 'Price']:\n",
    "            row = df[df['ID'] == record_id].iloc[0]\n",
    "            df.loc[df['ID'] == record_id, 'Total'] = row['Quantity'] * row['Price']\n",
    "\n",
    "        save_data(df)\n",
    "        print(\"Record updated successfully!\\n\")\n",
    "    else:\n",
    "        print(\"Record not found.\\n\")"
   ]
  },
  {
   "cell_type": "code",
   "execution_count": 9,
   "id": "b9109161-4f65-40c3-a25c-7f7dc3b433d8",
   "metadata": {},
   "outputs": [],
   "source": [
    "# -------------------- DELETE --------------------\n",
    "def delete_record():\n",
    "    df = load_data()\n",
    "    record_id = int(input(\"Enter ID of the record to delete: \"))\n",
    "    if record_id in df['ID'].values:\n",
    "        df = df[df['ID'] != record_id]\n",
    "        save_data(df)\n",
    "        print(\"Record deleted successfully!\\n\")\n",
    "    else:\n",
    "        print(\"Record not found.\\n\")"
   ]
  },
  {
   "cell_type": "code",
   "execution_count": null,
   "id": "7c68fcaf-d9f9-4652-9aa6-1bee55045b53",
   "metadata": {},
   "outputs": [
    {
     "name": "stdout",
     "output_type": "stream",
     "text": [
      "\n",
      "--- Sales Dataset CRUD Menu ---\n",
      "1. Create Record\n",
      "2. Read Records\n",
      "3. Update Record\n",
      "4. Delete Record\n",
      "5. Exit\n"
     ]
    }
   ],
   "source": [
    "# -------------------- MENU --------------------\n",
    "def menu():\n",
    "    while True:\n",
    "        print(\"\\n--- Sales Dataset CRUD Menu ---\")\n",
    "        print(\"1. Create Record\")\n",
    "        print(\"2. Read Records\")\n",
    "        print(\"3. Update Record\")\n",
    "        print(\"4. Delete Record\")\n",
    "        print(\"5. Exit\")\n",
    "        choice = input(\"Enter your choice (1-5): \")\n",
    "\n",
    "        if choice == '1':\n",
    "            create_record()\n",
    "        elif choice == '2':\n",
    "            read_records()\n",
    "        elif choice == '3':\n",
    "            update_record()\n",
    "        elif choice == '4':\n",
    "            delete_record()\n",
    "        elif choice == '5':\n",
    "            print(\"Exiting program.\")\n",
    "            break\n",
    "        else:\n",
    "            print(\"Invalid choice. Please try again.\")\n",
    "\n",
    "if __name__ == \"__main__\":\n",
    "    menu()\n"
   ]
  }
 ],
 "metadata": {
  "kernelspec": {
   "display_name": "Python 3 (ipykernel)",
   "language": "python",
   "name": "python3"
  },
  "language_info": {
   "codemirror_mode": {
    "name": "ipython",
    "version": 3
   },
   "file_extension": ".py",
   "mimetype": "text/x-python",
   "name": "python",
   "nbconvert_exporter": "python",
   "pygments_lexer": "ipython3",
   "version": "3.12.4"
  }
 },
 "nbformat": 4,
 "nbformat_minor": 5
}

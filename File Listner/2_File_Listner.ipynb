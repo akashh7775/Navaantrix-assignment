{
 "cells": [
  {
   "cell_type": "code",
   "execution_count": 1,
   "id": "66c35e15-0bff-453e-9ea2-833bcdf66af6",
   "metadata": {},
   "outputs": [],
   "source": [
    "# File Listener and Database Upload\n",
    "# ---------------------------------------------------\n",
    "# This script watches a folder for new CSV files and\n",
    "# uploads their content into a SQLite database."
   ]
  },
  {
   "cell_type": "code",
   "execution_count": 2,
   "id": "2ce0a941-dff1-4186-bb18-029b5a7dba9e",
   "metadata": {},
   "outputs": [],
   "source": [
    "import os\n",
    "import time\n",
    "import pandas as pd\n",
    "import sqlite3"
   ]
  },
  {
   "cell_type": "code",
   "execution_count": 3,
   "id": "f37db87a-896d-4d82-ae9f-a7ba9e0b07cc",
   "metadata": {},
   "outputs": [],
   "source": [
    "# Constants\n",
    "WATCH_DIR = \"watched_folder\"\n",
    "DB_FILE = \"sales_database.db\"\n",
    "TABLE_NAME = \"sales\"\n",
    "PROCESSED_DIR = \"processed_files\""
   ]
  },
  {
   "cell_type": "code",
   "execution_count": 4,
   "id": "790d8322-54d9-4c2c-8b8e-8709751ecc93",
   "metadata": {},
   "outputs": [],
   "source": [
    "# Ensure folders exist\n",
    "os.makedirs(WATCH_DIR, exist_ok=True)\n",
    "os.makedirs(PROCESSED_DIR, exist_ok=True)"
   ]
  },
  {
   "cell_type": "code",
   "execution_count": 5,
   "id": "2e60d7e7-9cd2-4277-930a-cb9b34b5eb51",
   "metadata": {},
   "outputs": [],
   "source": [
    "# Define expected columns\n",
    "EXPECTED_COLUMNS = [\"ID\", \"Date\", \"Product\", \"Category\", \"Quantity\", \"Price\", \"Total\"]\n"
   ]
  },
  {
   "cell_type": "code",
   "execution_count": 6,
   "id": "391ed59a-035c-4bbc-a480-7006a917803b",
   "metadata": {},
   "outputs": [],
   "source": [
    "# Connect to SQLite database\n",
    "def connect_db():\n",
    "    conn = sqlite3.connect(DB_FILE)\n",
    "    return conn"
   ]
  },
  {
   "cell_type": "code",
   "execution_count": 7,
   "id": "c116c223-1d64-4334-b44f-40ddda99bef5",
   "metadata": {},
   "outputs": [],
   "source": [
    "# Create table if not exists\n",
    "def create_table():\n",
    "    conn = connect_db()\n",
    "    cursor = conn.cursor()\n",
    "    cursor.execute(f'''\n",
    "        CREATE TABLE IF NOT EXISTS {TABLE_NAME} (\n",
    "            ID INTEGER,\n",
    "            Date TEXT,\n",
    "            Product TEXT,\n",
    "            Category TEXT,\n",
    "            Quantity INTEGER,\n",
    "            Price REAL,\n",
    "            Total REAL\n",
    "        )\n",
    "    ''')\n",
    "    conn.commit()\n",
    "    conn.close()"
   ]
  },
  {
   "cell_type": "code",
   "execution_count": 8,
   "id": "4f7e4adc-896f-4836-a870-33193306ff78",
   "metadata": {},
   "outputs": [],
   "source": [
    "# Insert DataFrame into database\n",
    "def upload_to_database(filepath):\n",
    "    try:\n",
    "        df = pd.read_csv(filepath)\n",
    "        if not all(col in df.columns for col in EXPECTED_COLUMNS):\n",
    "            print(f\"Skipping {filepath}: Columns do not match.\")\n",
    "            return\n",
    "\n",
    "        conn = connect_db()\n",
    "        df.to_sql(TABLE_NAME, conn, if_exists='append', index=False)\n",
    "        conn.close()\n",
    "\n",
    "        print(f\"Uploaded: {filepath}\")\n",
    "        os.rename(filepath, os.path.join(PROCESSED_DIR, os.path.basename(filepath)))\n",
    "    except Exception as e:\n",
    "        print(f\"Error uploading {filepath}: {str(e)}\")"
   ]
  },
  {
   "cell_type": "code",
   "execution_count": 9,
   "id": "36b4cd91-71ee-434e-9ae0-d3b5c527840f",
   "metadata": {},
   "outputs": [],
   "source": [
    "# Monitor folder for new files\n",
    "def listen_for_files():\n",
    "    print(f\"Watching folder: {WATCH_DIR}... Press Ctrl+C to stop.\")\n",
    "    processed = set(os.listdir(PROCESSED_DIR))\n",
    "\n",
    "    while True:\n",
    "        try:\n",
    "            for filename in os.listdir(WATCH_DIR):\n",
    "                if filename.endswith(\".csv\") and filename not in processed:\n",
    "                    full_path = os.path.join(WATCH_DIR, filename)\n",
    "                    upload_to_database(full_path)\n",
    "                    processed.add(filename)\n",
    "            time.sleep(5)\n",
    "        except KeyboardInterrupt:\n",
    "            print(\"\\nStopped file listener.\")\n",
    "            break"
   ]
  },
  {
   "cell_type": "code",
   "execution_count": null,
   "id": "d3416328-781b-4001-99b7-46e5d4d6b69d",
   "metadata": {},
   "outputs": [
    {
     "name": "stdout",
     "output_type": "stream",
     "text": [
      "Watching folder: watched_folder... Press Ctrl+C to stop.\n"
     ]
    }
   ],
   "source": [
    "# Entry point\n",
    "if __name__ == \"__main__\":\n",
    "    create_table()\n",
    "    listen_for_files()\n"
   ]
  },
  {
   "cell_type": "code",
   "execution_count": null,
   "id": "dbca0ec3-9892-4fea-a190-a2a64b3a63f5",
   "metadata": {},
   "outputs": [],
   "source": []
  }
 ],
 "metadata": {
  "kernelspec": {
   "display_name": "Python 3 (ipykernel)",
   "language": "python",
   "name": "python3"
  },
  "language_info": {
   "codemirror_mode": {
    "name": "ipython",
    "version": 3
   },
   "file_extension": ".py",
   "mimetype": "text/x-python",
   "name": "python",
   "nbconvert_exporter": "python",
   "pygments_lexer": "ipython3",
   "version": "3.12.4"
  }
 },
 "nbformat": 4,
 "nbformat_minor": 5
}

{
 "cells": [
  {
   "cell_type": "code",
   "execution_count": 1,
   "id": "9dc71aab-66de-422f-9b3a-cf7ad1aa88ec",
   "metadata": {},
   "outputs": [],
   "source": [
    "# Web Scraping for Product Details"
   ]
  },
  {
   "cell_type": "code",
   "execution_count": 2,
   "id": "b5dcd7b1-1372-46fa-a79c-df61367a9509",
   "metadata": {},
   "outputs": [],
   "source": [
    "# This script scrapes product details from Flipkart and stores\n",
    "# the results (Product Name, Price, Rating) in an Excel file."
   ]
  },
  {
   "cell_type": "code",
   "execution_count": 3,
   "id": "adb4f76b-af8d-4213-823f-32c3920a0404",
   "metadata": {},
   "outputs": [],
   "source": [
    "import requests\n",
    "from bs4 import BeautifulSoup\n",
    "import pandas as p"
   ]
  },
  {
   "cell_type": "code",
   "execution_count": 4,
   "id": "e1cc2d09-62cd-41cd-bf06-cc1bea7bd621",
   "metadata": {},
   "outputs": [
    {
     "name": "stdin",
     "output_type": "stream",
     "text": [
      "Enter product to search on Flipkart:  fan\n"
     ]
    }
   ],
   "source": [
    "# Ask user for the product to search\n",
    "product_name = input(\"Enter product to search on Flipkart: \")"
   ]
  },
  {
   "cell_type": "code",
   "execution_count": 5,
   "id": "288e97c0-1ac4-4c7d-ae1d-81384aa60db4",
   "metadata": {},
   "outputs": [],
   "source": [
    "# Convert product name to URL-friendly format\n",
    "search_url = f\"https://www.flipkart.com/search?q=\" + product_name.replace(\" \", \"+\")"
   ]
  },
  {
   "cell_type": "code",
   "execution_count": 6,
   "id": "5193b614-2c57-421e-9048-154ad9ab5fc2",
   "metadata": {},
   "outputs": [],
   "source": [
    "# Use headers to pretend we're a real browser\n",
    "headers = {\n",
    "    \"User-Agent\": \"Mozilla/5.0\"\n",
    "}"
   ]
  },
  {
   "cell_type": "code",
   "execution_count": 7,
   "id": "3a9a3fd6-06b8-4fb2-8fd6-288416753e02",
   "metadata": {},
   "outputs": [],
   "source": [
    "# Send a request to Flipkart search page\n",
    "response = requests.get(search_url, headers=headers)"
   ]
  },
  {
   "cell_type": "code",
   "execution_count": 8,
   "id": "1506a29f-ffc3-479a-a6de-ec701e3be68f",
   "metadata": {},
   "outputs": [],
   "source": [
    "# Parse the HTML content\n",
    "soup = BeautifulSoup(response.content, \"html.parser\")"
   ]
  },
  {
   "cell_type": "code",
   "execution_count": 9,
   "id": "2fdfecd3-7aff-4ea8-8067-cb9a73c9f963",
   "metadata": {},
   "outputs": [],
   "source": [
    "# Create a list to store the results\n",
    "products = []"
   ]
  },
  {
   "cell_type": "code",
   "execution_count": 10,
   "id": "1d55a7b5-5934-4b5b-b5d4-2c97cb7b9df5",
   "metadata": {},
   "outputs": [],
   "source": [
    "# Go through each product listing\n",
    "for box in soup.select(\"div._1AtVbE\"):\n",
    "    name_tag = box.select_one(\"div._4rR01T\")  # product name\n",
    "    price_tag = box.select_one(\"div._30jeq3\")  # price\n",
    "    rating_tag = box.select_one(\"div._3LWZlK\")  # rating\n",
    "\n",
    "    if name_tag and price_tag:\n",
    "        name = name_tag.text\n",
    "        price = price_tag.text\n",
    "        rating = rating_tag.text if rating_tag else \"No Rating\"\n",
    "\n",
    "        products.append({\n",
    "            \"Product Name\": name,\n",
    "            \"Price\": price,\n",
    "            \"Rating\": rating\n",
    "        })"
   ]
  },
  {
   "cell_type": "code",
   "execution_count": 11,
   "id": "d21a6ddc-55a0-4831-8c8e-ad0deaa02cf9",
   "metadata": {},
   "outputs": [
    {
     "name": "stdout",
     "output_type": "stream",
     "text": [
      "No products found.\n"
     ]
    }
   ],
   "source": [
    "# Save to Excel\n",
    "if products:\n",
    "    df = pd.DataFrame(products)\n",
    "    df.to_excel(\"product_results.xlsx\", index=False)\n",
    "    print(\"Product details saved to product_results.xlsx\")\n",
    "else:\n",
    "    print(\"No products found.\")\n"
   ]
  },
  {
   "cell_type": "code",
   "execution_count": null,
   "id": "8b6b73af-cdf6-4f8c-87ea-7c77fbb66b53",
   "metadata": {},
   "outputs": [],
   "source": []
  },
  {
   "cell_type": "code",
   "execution_count": null,
   "id": "80c7d1d3-57c6-46b3-8d2e-08c45cbab3f0",
   "metadata": {},
   "outputs": [],
   "source": []
  },
  {
   "cell_type": "code",
   "execution_count": null,
   "id": "94dab9c4-e9a8-4365-beff-3e5a319c2c5d",
   "metadata": {},
   "outputs": [],
   "source": []
  },
  {
   "cell_type": "code",
   "execution_count": null,
   "id": "208ca2cc-9e5b-499f-b83e-df4c734db244",
   "metadata": {},
   "outputs": [],
   "source": []
  }
 ],
 "metadata": {
  "kernelspec": {
   "display_name": "Python 3 (ipykernel)",
   "language": "python",
   "name": "python3"
  },
  "language_info": {
   "codemirror_mode": {
    "name": "ipython",
    "version": 3
   },
   "file_extension": ".py",
   "mimetype": "text/x-python",
   "name": "python",
   "nbconvert_exporter": "python",
   "pygments_lexer": "ipython3",
   "version": "3.12.4"
  }
 },
 "nbformat": 4,
 "nbformat_minor": 5
}
